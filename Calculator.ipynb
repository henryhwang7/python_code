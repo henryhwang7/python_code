{
 "cells": [
  {
   "cell_type": "code",
   "execution_count": null,
   "metadata": {
    "collapsed": false
   },
   "outputs": [],
   "source": [
    "menu = \"\"\"\n",
    "1. Addition\n",
    "2. Subtraction\n",
    "3. Multiplication\n",
    "4. Division\n",
    "5. Remainder\n",
    "6. Quit\n",
    "\n",
    "Enter Your choice in Number: \"\"\"\n",
    "\n",
    "while True:\n",
    "    a = int(input(\"Type any integer that you want to compute: \"))\n",
    "    b = int(input(\"Type another integer: \"))\n",
    "    print(menu)\n",
    "    choice = input()\n",
    "    if choice == '1':\n",
    "        print(\"{0} + {1} = {2}\".format(a,b,a+b))\n",
    "    elif choice == '2':\n",
    "        print(\"{0} - {1}= {2}\".format(a,b,a-b))\n",
    "    elif choice == '3':\n",
    "        print(\"{0} x {1} = {2}\".format(a,b,a*b))\n",
    "    elif choice == '4':\n",
    "        print(\"{0} ÷ {1} = {2}\".format(a,b,a/b))\n",
    "    elif choice == '5':\n",
    "        print(\"{0} % {1} = {2}\".format(a,b,a%b))\n",
    "    elif choice == '6':\n",
    "        break"
   ]
  },
  {
   "cell_type": "code",
   "execution_count": null,
   "metadata": {
    "collapsed": false
   },
   "outputs": [],
   "source": [
    "temp =  []\n",
    "while 1:\n",
    "    Integer = int(input(\"Type any integer: (Terminate = 0)\"))\n",
    "    if Integer == 0:\n",
    "        break\n",
    "    temp.append(Integer)\n",
    "def Sum(temp):\n",
    "    Sum = 0\n",
    "    for i in temp:\n",
    "        Sum   +=i\n",
    "    return   Sum\n",
    "def Subtraction(temp):\n",
    "    Sub = temp[0]\n",
    "    for j in temp:\n",
    "        if j == temp[0]:\n",
    "            continue\n",
    "        else:\n",
    "            Sub -= j\n",
    "        return Sub\n",
    "def Multiplication(temp):\n",
    "    Mul = 1\n",
    "    for k in temp:\n",
    "        Mul *=k\n",
    "    return Mul\n",
    "def Division(temp):\n",
    "    Div = temp[0]\n",
    "    for l in temp:\n",
    "        if l == temp[0]:\n",
    "            continue\n",
    "        else:\n",
    "            Div /=l\n",
    "    return Div\n",
    "\n",
    "menu = \"\"\"==============Calculator============\n",
    "1. Addition\n",
    "2. Subtraction\n",
    "3. Multiplication\n",
    "4. Division\n",
    "5. Terminate ==================================\"\"\"\n",
    "while True:\n",
    "    print(menu)\n",
    "    a = int(input(\"Choose the calculation :\"))           \n",
    "    if a == 1:\n",
    "        print(\"Total Summation is {0}\".format(Sum(temp)))\n",
    "    elif a == 2:\n",
    "        print(\"Total Subtraction is {0}\".format(Subtraction(temp)))\n",
    "    elif a == 3:\n",
    "        print(\"Total Multiplication is {0}\".format(Multiplication(temp)))\n",
    "    elif a == 4:          \n",
    "        print(\"Total division is {0}\".format(Division(temp)))\n",
    "    elif a ==5:\n",
    "        print(\"Terminating the calculation\")\n",
    "        break"
   ]
  }
 ],
 "metadata": {
  "kernelspec": {
   "display_name": "Python 3",
   "language": "python",
   "name": "python3"
  },
  "language_info": {
   "codemirror_mode": {
    "name": "ipython",
    "version": 3
   },
   "file_extension": ".py",
   "mimetype": "text/x-python",
   "name": "python",
   "nbconvert_exporter": "python",
   "pygments_lexer": "ipython3",
   "version": "3.6.2"
  }
 },
 "nbformat": 4,
 "nbformat_minor": 2
}
